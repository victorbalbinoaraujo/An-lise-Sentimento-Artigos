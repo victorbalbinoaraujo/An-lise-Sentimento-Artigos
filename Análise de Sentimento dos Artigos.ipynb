{
 "metadata": {
  "language_info": {
   "codemirror_mode": {
    "name": "ipython",
    "version": 3
   },
   "file_extension": ".py",
   "mimetype": "text/x-python",
   "name": "python",
   "nbconvert_exporter": "python",
   "pygments_lexer": "ipython3",
   "version": "3.9.6"
  },
  "orig_nbformat": 2,
  "kernelspec": {
   "name": "python3",
   "display_name": "Python 3.9.6 64-bit"
  },
  "metadata": {
   "interpreter": {
    "hash": "b2a6f09527545e370935e82da67d9200a6ba8ae5f29d2a729dc4524a539d679f"
   }
  },
  "interpreter": {
   "hash": "b2a6f09527545e370935e82da67d9200a6ba8ae5f29d2a729dc4524a539d679f"
  }
 },
 "nbformat": 4,
 "nbformat_minor": 2,
 "cells": [
  {
   "cell_type": "markdown",
   "source": [
    "## *Análise de Sentimentos de Artigos*"
   ],
   "metadata": {}
  },
  {
   "cell_type": "markdown",
   "source": [
    "Artigos Escolhidos\n",
    "\n",
    "1970: Desníveis e falta de sinalização deixam via Anchieta mais perigosa\n",
    "\n",
    "1970: Parlamento da Itália aprova a lei do divórcio; Vaticano reage\n",
    "\n",
    "1970: Itália discute fazer referendo sobre divórcio após lei ser aprovada\n",
    "\n",
    "1970: Programa de construção da ponte Rio-Niterói começa a ser revisto\n",
    "\n",
    "1970: Missão da ONU diz que Portugal foi responsável por invasão da Guiné\n",
    "\n",
    "1970: Inaugurado, viaduto sobre praça 14 Bis facilita ligação centro-zona sul\n",
    "\n",
    "1970: Chanceler da Alemanha Ocidental chega à Polônia para assinar tratado\n",
    "\n",
    "1970: Morre Abrahão de Moraes, um dos maiores astrônomos brasileiros\n",
    "\n",
    "1970: Rio tem policiamento ostensivo após sequestro de embaixador suíço\n",
    "\n",
    "1970: Governo aguarda por mensagem do embaixador sequestrado no Rio\n"
   ],
   "metadata": {}
  },
  {
   "cell_type": "code",
   "execution_count": null,
   "source": [
    "# Importações / Imports\r\n",
    "\r\n",
    "# Web Scraping\r\n",
    "from bs4 import BeautifulSoup \r\n",
    "import requests\r\n",
    "\r\n",
    "# Mongo DB\r\n",
    "from pymongo import MongoClient\r\n",
    "\r\n",
    "# SpaCy Stopword WordCloud\r\n",
    "import spacy\r\n",
    "from wordcloud import WordCloud\r\n",
    "import matplotlib.pyplot as plt\r\n",
    "\r\n",
    "# Análise de Sentimentos\r\n",
    "# Sentiment Analysis\r\n",
    "import pandas as pd\r\n",
    "from sklearn.feature_extraction.text import CountVectorizer\r\n",
    "from sklearn.naive_bayes import MultinomialNB\r\n",
    "from sklearn import metrics\r\n",
    "from sklearn.model_selection import cross_val_predict"
   ],
   "outputs": [],
   "metadata": {}
  },
  {
   "cell_type": "markdown",
   "source": [
    "## *WEB SCRAPING*"
   ],
   "metadata": {}
  },
  {
   "cell_type": "code",
   "execution_count": null,
   "source": [
    "'''\r\n",
    "Armazenando todas as URLs em uma lista para automatizar o processo em um loop\r\n",
    "Collecting all URLs in a single list to automate the process in a loop\r\n",
    "'''\r\n",
    "urls = ['https://www1.folha.uol.com.br/banco-de-dados/2020/11/1970-desniveis-e-falta-de-sinalizacao-deixam-via-anchieta-mais-perigosa.shtml',\r\n",
    "        'https://www1.folha.uol.com.br/banco-de-dados/2020/12/1970-parlamento-da-italia-aprova-a-lei-do-divorcio-vaticano-reage.shtml',\r\n",
    "        'https://www1.folha.uol.com.br/banco-de-dados/2020/12/1970-italia-discute-fazer-referendo-sobre-divorcio-apos-lei-ser-aprovada.shtml',\r\n",
    "        'https://www1.folha.uol.com.br/banco-de-dados/2020/12/1970-programa-de-construcao-da-ponte-rio-niteroi-comeca-a-ser-revisto.shtml',\r\n",
    "        'https://www1.folha.uol.com.br/banco-de-dados/2020/12/1970-missao-da-onu-diz-que-portugal-foi-responsavel-por-invasao-da-guine.shtml',\r\n",
    "        'https://www1.folha.uol.com.br/banco-de-dados/2020/12/1970-inaugurado-viaduto-sobre-praca-14-bis-facilita-ligacao-centro-zona-sul.shtml',\r\n",
    "        'https://www1.folha.uol.com.br/banco-de-dados/2020/12/1970-chanceler-da-alemanha-ocidental-chega-a-polonia-para-assinar-tratado.shtml',\r\n",
    "        'https://www1.folha.uol.com.br/banco-de-dados/2020/12/1970-morre-abrahao-de-moraes-um-dos-maiores-astronomos-brasileiros.shtml',\r\n",
    "        'https://www1.folha.uol.com.br/banco-de-dados/2020/12/1970-rio-tem-policiamento-ostensivo-apos-sequestro-de-embaixador-suico.shtml',\r\n",
    "        'https://www1.folha.uol.com.br/banco-de-dados/2020/12/1970-governo-aguarda-por-mensagem-do-embaixador-sequestrado-no-rio.shtml']"
   ],
   "outputs": [],
   "metadata": {}
  },
  {
   "cell_type": "code",
   "execution_count": null,
   "source": [
    "'''\r\n",
    "O loop tem a função de juntar todos os paragráfos de cada artigo como um elemento só e agregar todos eles em uma lista, desta forma, temos todos os 10 textos e cada parágrafo em uma lista específica para realizar a análise de sentimentos posteriormente.\r\n",
    "The loop has the function of join all paragraphs of each article in a single element and aggregate all of them in a list, this way, we have all texts and each paragraph in a specific list to do the sentiment analysis after.\r\n",
    "'''\r\n",
    "textos = []\r\n",
    "paragrafos = []\r\n",
    "for iterador in range(len(urls)):\r\n",
    "    r = requests.get(urls[iterador])\r\n",
    "    soup = BeautifulSoup(r.content, 'html.parser')\r\n",
    "    texto = ''\r\n",
    "    p_artigo = soup.find('div', class_='c-news__body').findAll('p')\r\n",
    "    for p in p_artigo:\r\n",
    "        paragrafos.append(p.text)\r\n",
    "        texto += ''.join(p.findAll(text = True))\r\n",
    "    textos.append(texto)"
   ],
   "outputs": [],
   "metadata": {}
  },
  {
   "cell_type": "code",
   "execution_count": null,
   "source": [
    "'''\r\n",
    "Conferindo se ocorreu como esperava.\r\n",
    "Checking if occured as expected.\r\n",
    "'''\r\n",
    "print(textos)\r\n",
    "print(f'Tamanho da lista: {len(textos)}')"
   ],
   "outputs": [],
   "metadata": {}
  },
  {
   "cell_type": "markdown",
   "source": [
    "## *MONGO DB*"
   ],
   "metadata": {}
  },
  {
   "cell_type": "code",
   "execution_count": null,
   "source": [
    "'''\r\n",
    "Criando lista com o nome dos artigos para gravar como o nome no banco de dados e o valor sendo o texto do nome correspondente ao artigo.\r\n",
    "Salvando todos eles no MongoDB com o nome da coleção de 'textos'.\r\n",
    "Creating a list with the articles's name to store in the database e the value being the text of the corresponding article.\r\n",
    "Saving all of them in the Mongo DB with the collection's name 'textos'.\r\n",
    "'''\r\n",
    "artigos = [\"Desníveis e falta de sinalização deixam via Anchieta mais perigosa\", \"Parlamento da Itália aprova a lei do divórcio; Vaticano reage\", \"Itália discute fazer referendo sobre divórcio após lei ser aprovada\", \"Programa de construção da ponte Rio-Niterói começa a ser revisto\",\r\n",
    "\"Missão da ONU diz que Portugal foi responsável por invasão da Guiné\", \"Inaugurado, viaduto sobre praça 14 Bis facilita ligação centro-zona sul\",\r\n",
    "\"Chanceler da Alemanha Ocidental chega à Polônia para assinar tratado\", \"Morre Abrahão de Moraes, um dos maiores astrônomos brasileiros\",\r\n",
    "\"Rio tem policiamento ostensivo após sequestro de embaixador suíço\", \"Governo aguarda por mensagem do embaixador sequestrado no Rio\"]\r\n",
    "\r\n",
    "dict_textos = dict()\r\n",
    "\r\n",
    "for i in range(len(textos)):\r\n",
    "    dict_textos[artigos[i]] = textos[i]\r\n",
    "\r\n",
    "client = MongoClient()\r\n",
    "name = 'textos'\r\n",
    "db = client[name]\r\n",
    "collection = db[name]\r\n",
    "collection.insert_one(dict_textos)\r\n"
   ],
   "outputs": [],
   "metadata": {}
  },
  {
   "cell_type": "markdown",
   "source": [
    "## *STOPWORDS, NUVEM DE PALAVRAS, VERBOS E ENTIDADES*"
   ],
   "metadata": {}
  },
  {
   "cell_type": "code",
   "execution_count": null,
   "source": [
    "'''\r\n",
    "Gerando WordCloud para cada texto.\r\n",
    "Transforma cada item da lista 'textos' em uma string, passa para o doc, remove as stopwords e cria o Word Cloud.\r\n",
    "Generating WordCloud for each text.\r\n",
    "Transform each list item into a string, moves to doc, remove the stopwords e create the Word Cloud.\r\n",
    "'''\r\n",
    "nlp = spacy.load(\"pt_core_news_sm\")\r\n",
    "for i in range(len(textos)):\r\n",
    "    texto = str(textos[i])\r\n",
    "    doc = nlp(texto)\r\n",
    "    tokens = [token for token in doc if not token.is_stop and token.is_punct != True]\r\n",
    "    str_tokens = ' '.join([str(item) for item in tokens])\r\n",
    "    wordcloud = WordCloud(width=800, height=600, background_color='black', min_font_size=10).generate(str_tokens)\r\n",
    "    plt.figure(figsize = (8, 8), facecolor = None)\r\n",
    "    plt.imshow(wordcloud)\r\n",
    "    plt.axis(\"off\")\r\n",
    "    plt.tight_layout(pad = 0)\r\n",
    "    plt.show()"
   ],
   "outputs": [],
   "metadata": {}
  },
  {
   "cell_type": "code",
   "execution_count": null,
   "source": [
    "'''\r\n",
    "Coletando os verbos de todos textos, criando um dicionário relacionando o artigo com seus respectivos verbos e inserindo-os no Mongo DB.\r\n",
    "Collecting the verbs of all texts, creating a dictionary relating the article with its respective verbs and storing in Mongo DB.\r\n",
    "'''\r\n",
    "verbos_list = []\r\n",
    "for i in range(len(textos)):\r\n",
    "    nlp = spacy.load(\"pt_core_news_sm\")\r\n",
    "    texto = str(textos[i])\r\n",
    "    doc = nlp(texto)\r\n",
    "    verbos = [token.text for token in doc if token.pos_ == \"VERB\"]\r\n",
    "    verbos_list.append(verbos)"
   ],
   "outputs": [],
   "metadata": {}
  },
  {
   "cell_type": "code",
   "execution_count": null,
   "source": [
    "dict_verbos = dict()\r\n",
    "\r\n",
    "for i in range(len(textos)):\r\n",
    "    dict_verbos[artigos[i]] = verbos_list[i][:]\r\n",
    "\r\n",
    "collection.insert_one(dict_verbos)"
   ],
   "outputs": [],
   "metadata": {}
  },
  {
   "cell_type": "code",
   "execution_count": null,
   "source": [
    "'''\r\n",
    "Coletando as entidades de todos textos, criando um dicionário relacionando o artigo com suas respectivas entidades e inserindo-as no Mongo DB.\r\n",
    "Collecting the entities of all texts, creating a dictionary relating the article with its respective entities and storing in Mongo DB.\r\n",
    "'''\r\n",
    "entidades_list = []\r\n",
    "for i in range(len(textos)):\r\n",
    "    nlp = spacy.load(\"pt_core_news_sm\")\r\n",
    "    texto = str(textos[i])\r\n",
    "    doc = nlp(texto)\r\n",
    "    entidades = doc.ents\r\n",
    "    entidades_list.append(str(entidades))"
   ],
   "outputs": [],
   "metadata": {}
  },
  {
   "cell_type": "code",
   "execution_count": null,
   "source": [
    "dict_entidades = dict()\r\n",
    "\r\n",
    "for i in range(len(textos)):\r\n",
    "    dict_entidades[artigos[i]] = entidades_list[i][:]\r\n",
    "\r\n",
    "collection.insert_one(dict_entidades)"
   ],
   "outputs": [],
   "metadata": {}
  },
  {
   "cell_type": "markdown",
   "source": [
    "## *ANÁLISE DE SENTIMENTOS*"
   ],
   "metadata": {}
  },
  {
   "cell_type": "code",
   "execution_count": null,
   "source": [
    "'''\r\n",
    "Carregando o arquivo CSV.\r\n",
    "Loading CSV File\r\n",
    "'''\r\n",
    "df = pd.read_csv('Tweets_Mg.csv')"
   ],
   "outputs": [],
   "metadata": {}
  },
  {
   "cell_type": "code",
   "execution_count": null,
   "source": [
    "'''\r\n",
    "Selecionando dados. Os únicos relevantes são o texto e a classificação.\r\n",
    "Selecting data. The only relevant are text and classification.\r\n",
    "'''\r\n",
    "texto_tt = df.Text.values\r\n",
    "classificacao = df.Classificacao.values\r\n",
    "\r\n",
    "'''\r\n",
    "Treinando o modelo baseado nos tweets.\r\n",
    "Training the model based on tweets.\r\n",
    "'''\r\n",
    "vector = CountVectorizer()\r\n",
    "f_twt = vector.fit_transform(texto_tt)\r\n",
    "\r\n",
    "model = MultinomialNB()\r\n",
    "model.fit(f_twt, classificacao)\r\n",
    "\r\n",
    "'''\r\n",
    "Testando o modelo.\r\n",
    "Testing the model.\r\n",
    "'''\r\n",
    "teste_textos = vector.transform(textos)\r\n",
    "preditos_textos = model.predict(teste_textos) # Todos deram como resultado 'neutro'.\r\n",
    "\r\n",
    "teste_paragrafos = vector.transform(paragrafos)\r\n",
    "preditos_paragrafos = model.predict(teste_paragrafos)"
   ],
   "outputs": [],
   "metadata": {}
  },
  {
   "cell_type": "code",
   "execution_count": null,
   "source": [
    "'''\r\n",
    "Avaliando o modelo.\r\n",
    "Evaluating the model.\r\n",
    "'''\r\n",
    "resultados = cross_val_predict(model, f_twt, classificacao, cv = 10)\r\n",
    "score = metrics.accuracy_score(classificacao, resultados)"
   ],
   "outputs": [],
   "metadata": {}
  },
  {
   "cell_type": "code",
   "execution_count": null,
   "source": [
    "'''\r\n",
    "Inserindo os valores preditos pelo modelo e seu score no Mongo DB.\r\n",
    "Storing the predicted values by model and its score in Mongo DB.\r\n",
    "'''\r\n",
    "dict_preditos_score_textos = dict()\r\n",
    "dict_preditos_score_textos['Preditos'] = list(preditos_textos)\r\n",
    "dict_preditos_score_textos['Score'] = score\r\n",
    "\r\n",
    "dict_preditos_paragrafos = dict()\r\n",
    "dict_preditos_paragrafos['Preditos Paragrafos'] = list(preditos_paragrafos)\r\n",
    "\r\n",
    "collection.insert_one(dict_preditos_score_textos)\r\n",
    "collection.insert_one(dict_preditos_paragrafos)\r\n",
    "\r\n",
    "print(pd.crosstab(classificacao, resultados, rownames = [\"Real\"], colnames=[\"Predito\"], margins=True))"
   ],
   "outputs": [],
   "metadata": {}
  },
  {
   "cell_type": "code",
   "execution_count": null,
   "source": [
    "'''\r\n",
    "Data Frame contendo os parágrafos e a análise do modelo\r\n",
    "Data Frame containing the paragraphs and the model's analysis\r\n",
    "'''\r\n",
    "pd_paragrafos = {'Paragráfos': paragrafos, 'Predição': preditos_paragrafos}\r\n",
    "df_paragrafos = pd.DataFrame(pd_paragrafos)\r\n",
    "df_paragrafos"
   ],
   "outputs": [],
   "metadata": {}
  },
  {
   "cell_type": "code",
   "execution_count": null,
   "source": [
    "'''\r\n",
    "Data Frame contendo os textos, análise do modelo e o score\r\n",
    "Data Frame containing the textos, the model's analysis and its score.\r\n",
    "'''\r\n",
    "pd_textos = {'Paragráfos': textos, 'Predição': preditos_textos}\r\n",
    "df_textos = pd.DataFrame(pd_textos)\r\n",
    "print(df_textos)\r\n",
    "print(f\"Score do modelo: {round(score * 100)}%\")"
   ],
   "outputs": [],
   "metadata": {}
  },
  {
   "cell_type": "markdown",
   "source": [
    "Autor: Victor Balbino Araujo"
   ],
   "metadata": {}
  }
 ]
}